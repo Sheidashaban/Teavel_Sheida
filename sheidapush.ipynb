{
 "cells": [
  {
   "cell_type": "markdown",
   "id": "527c836d",
   "metadata": {},
   "source": [
    "# End‑to‑End ML Workflow – California Housing Prices\n",
    "\n",
    "This notebook walks through **the full modelling loop**:\n",
    "1. Load a real dataset\n",
    "2. Exploratory data analysis (EDA)\n",
    "3. Basic cleaning & preprocessing\n",
    "4. **Baseline model** (mean predictor)\n",
    "5. Feature importance with **SHAP** + dimensionality reduction\n",
    "6. Two stronger models\n",
    "7. Hyper‑parameter tuning on the better model\n",
    "8. Cross‑validation & final report"
   ]
  },
  {
   "cell_type": "markdown",
   "id": "531d50e5",
   "metadata": {},
   "source": [
    "> **Setup:** install SHAP if not already present (small, CPU‑friendly)."
   ]
  },
  {
   "cell_type": "code",
   "execution_count": null,
   "id": "8d886894",
   "metadata": {},
   "outputs": [],
   "source": [
    "import importlib, subprocess, sys\n",
    "def ensure(pkg, pip_name=None):\n",
    "    if pip_name is None:\n",
    "        pip_name = pkg\n",
    "    try:\n",
    "        importlib.import_module(pkg)\n",
    "    except ModuleNotFoundError:\n",
    "        subprocess.check_call([sys.executable, \"-m\", \"pip\", \"install\", \"-q\", pip_name])\n",
    "ensure(\"shap\")\n"
   ]
  },
  {
   "cell_type": "markdown",
   "id": "7ba827be",
   "metadata": {},
   "source": [
    "## 1  Load the California Housing dataset"
   ]
  },
  {
   "cell_type": "code",
   "execution_count": null,
   "id": "05584e46",
   "metadata": {},
   "outputs": [],
   "source": [
    "from sklearn.datasets import fetch_california_housing\n",
    "import pandas as pd\n",
    "import numpy as np\n",
    "\n",
    "data = fetch_california_housing(as_frame=True)\n",
    "df = data.frame  # includes target in 'MedHouseVal'\n",
    "df.head()"
   ]
  },
  {
   "cell_type": "markdown",
   "id": "91614dd1",
   "metadata": {},
   "source": [
    "## 2  Exploratory Data Analysis (EDA)"
   ]
  },
  {
   "cell_type": "code",
   "execution_count": null,
   "id": "d429b3bc",
   "metadata": {},
   "outputs": [],
   "source": [
    "import matplotlib.pyplot as plt\n",
    "import seaborn as sns\n",
    "\n",
    "# Summary statistics\n",
    "display(df.describe())\n",
    "\n",
    "# Histograms of features\n",
    "df.hist(figsize=(12,8), bins=30)\n",
    "plt.tight_layout()\n",
    "plt.show()\n",
    "\n",
    "# Correlation heatmap\n",
    "plt.figure(figsize=(8,6))\n",
    "sns.heatmap(df.corr(numeric_only=True), cmap='coolwarm', annot=False)\n",
    "plt.title(\"Correlation heatmap\")\n",
    "plt.show()"
   ]
  },
  {
   "cell_type": "markdown",
   "id": "d50361c6",
   "metadata": {},
   "source": [
    "## 3  Basic Cleaning & Train‑Test Split\n",
    "* No missing values in this dataset, but we’ll standardise features for models that need it."
   ]
  },
  {
   "cell_type": "code",
   "execution_count": null,
   "id": "14132358",
   "metadata": {},
   "outputs": [],
   "source": [
    "from sklearn.model_selection import train_test_split\n",
    "from sklearn.preprocessing import StandardScaler\n",
    "from sklearn.compose import ColumnTransformer\n",
    "from sklearn.pipeline import Pipeline\n",
    "\n",
    "X = df.drop(columns=[\"MedHouseVal\"])\n",
    "y = df[\"MedHouseVal\"]\n",
    "\n",
    "X_train, X_test, y_train, y_test = train_test_split(\n",
    "    X, y, test_size=0.2, random_state=42)\n",
    "\n",
    "num_features = X.columns.tolist()\n",
    "preprocess = ColumnTransformer([\n",
    "    (\"scale\", StandardScaler(), num_features)\n",
    "])"
   ]
  },
  {
   "cell_type": "markdown",
   "id": "1f94be95",
   "metadata": {},
   "source": [
    "## 4  Baseline Model – Mean Predictor"
   ]
  },
  {
   "cell_type": "code",
   "execution_count": null,
   "id": "7bea6230",
   "metadata": {},
   "outputs": [],
   "source": [
    "from sklearn.dummy import DummyRegressor\n",
    "from sklearn.metrics import mean_absolute_error, mean_squared_error, r2_score\n",
    "\n",
    "baseline = DummyRegressor(strategy=\"mean\")\n",
    "baseline.fit(X_train, y_train)\n",
    "y_pred_base = baseline.predict(X_test)\n",
    "\n",
    "def regression_metrics(y_true, y_pred, name=\"Model\"):\n",
    "    mae = mean_absolute_error(y_true, y_pred)\n",
    "    rmse = mean_squared_error(y_true, y_pred, squared=False)\n",
    "    r2 = r2_score(y_true, y_pred)\n",
    "    print(f\"{name} | MAE: {mae:.3f}  RMSE: {rmse:.3f}  R2: {r2:.3f}\")\n",
    "\n",
    "regression_metrics(y_test, y_pred_base, \"Baseline\")"
   ]
  },
  {
   "cell_type": "markdown",
   "id": "228fba20",
   "metadata": {},
   "source": [
    "## 5  Feature Importance with SHAP"
   ]
  },
  {
   "cell_type": "code",
   "execution_count": null,
   "id": "2de725dd",
   "metadata": {},
   "outputs": [],
   "source": [
    "from sklearn.ensemble import RandomForestRegressor\n",
    "import shap\n",
    "\n",
    "rf = Pipeline([\n",
    "    (\"prep\", preprocess),\n",
    "    (\"model\", RandomForestRegressor(\n",
    "        n_estimators=200, random_state=42, n_jobs=-1))\n",
    "])\n",
    "rf.fit(X_train, y_train)\n",
    "\n",
    "# SHAP values\n",
    "explainer = shap.Explainer(rf.named_steps[\"model\"])\n",
    "# Need transformed data for explainer\n",
    "X_train_scaled = preprocess.fit_transform(X_train)\n",
    "shap_values = explainer(X_train_scaled, check_additivity=False)\n",
    "\n",
    "shap.plots.bar(shap_values, max_display=10)"
   ]
  },
  {
   "cell_type": "code",
   "execution_count": null,
   "id": "c64e8e43",
   "metadata": {},
   "outputs": [],
   "source": [
    "# Mean absolute shap importance per feature\n",
    "abs_shap = np.abs(shap_values.values).mean(axis=0)\n",
    "feature_importance = pd.Series(abs_shap, index=num_features).sort_values(ascending=False)\n",
    "top_features = feature_importance.head(6).index.tolist()\n",
    "print(\"Top features:\", top_features)"
   ]
  },
  {
   "cell_type": "markdown",
   "id": "afdd0c86",
   "metadata": {},
   "source": [
    "### 5.1  PCA visualisation of top features"
   ]
  },
  {
   "cell_type": "code",
   "execution_count": null,
   "id": "2a039010",
   "metadata": {},
   "outputs": [],
   "source": [
    "from sklearn.decomposition import PCA\n",
    "pca = PCA(n_components=2)\n",
    "X_top = X_train[top_features]\n",
    "X_top_scaled = StandardScaler().fit_transform(X_top)\n",
    "X_pca = pca.fit_transform(X_top_scaled)\n",
    "\n",
    "plt.figure(figsize=(6,5))\n",
    "scatter = plt.scatter(X_pca[:,0], X_pca[:,1], c=y_train, cmap='viridis', s=8)\n",
    "plt.colorbar(scatter, label='House Value')\n",
    "plt.title(\"PCA of top SHAP features\")\n",
    "plt.xlabel(\"PC1\")\n",
    "plt.ylabel(\"PC2\")\n",
    "plt.show()"
   ]
  },
  {
   "cell_type": "markdown",
   "id": "34824209",
   "metadata": {},
   "source": [
    "## 6  Model 1 – RandomForestRegressor"
   ]
  },
  {
   "cell_type": "code",
   "execution_count": null,
   "id": "e6ba4268",
   "metadata": {},
   "outputs": [],
   "source": [
    "rf_top = Pipeline([\n",
    "    (\"prep\", ColumnTransformer([(\"scale\", StandardScaler(), top_features)])),\n",
    "    (\"model\", RandomForestRegressor(\n",
    "        n_estimators=400, max_depth=None, random_state=42, n_jobs=-1))\n",
    "])\n",
    "rf_top.fit(X_train[top_features], y_train)\n",
    "y_pred_rf = rf_top.predict(X_test[top_features])\n",
    "regression_metrics(y_test, y_pred_rf, \"RandomForest\")"
   ]
  },
  {
   "cell_type": "markdown",
   "id": "aa24a0d1",
   "metadata": {},
   "source": [
    "## 7  Model 2 – GradientBoostingRegressor"
   ]
  },
  {
   "cell_type": "code",
   "execution_count": null,
   "id": "2c9311bb",
   "metadata": {},
   "outputs": [],
   "source": [
    "from sklearn.ensemble import GradientBoostingRegressor\n",
    "gbr = Pipeline([\n",
    "    (\"prep\", preprocess),\n",
    "    (\"model\", GradientBoostingRegressor(random_state=42))\n",
    "])\n",
    "gbr.fit(X_train, y_train)\n",
    "y_pred_gbr = gbr.predict(X_test)\n",
    "regression_metrics(y_test, y_pred_gbr, \"GradientBoosting\")"
   ]
  },
  {
   "cell_type": "markdown",
   "id": "680016dc",
   "metadata": {},
   "source": [
    "The Gradient Boosting model usually outperforms RandomForest on this dataset (check metrics above). We’ll hyper‑tune it."
   ]
  },
  {
   "cell_type": "markdown",
   "id": "edf43f39",
   "metadata": {},
   "source": [
    "## 8  Hyper‑parameter Tuning – Gradient Boosting"
   ]
  },
  {
   "cell_type": "code",
   "execution_count": null,
   "id": "c65b44fa",
   "metadata": {},
   "outputs": [],
   "source": [
    "from sklearn.model_selection import RandomizedSearchCV\n",
    "from scipy.stats import randint, uniform\n",
    "\n",
    "param_dist = {\n",
    "    \"model__n_estimators\": randint(100, 800),\n",
    "    \"model__max_depth\": randint(2, 6),\n",
    "    \"model__learning_rate\": uniform(0.01, 0.2),\n",
    "    \"model__subsample\": uniform(0.7, 0.3)\n",
    "}\n",
    "\n",
    "random_search = RandomizedSearchCV(\n",
    "    gbr,\n",
    "    param_distributions=param_dist,\n",
    "    n_iter=30,\n",
    "    cv=5,\n",
    "    scoring=\"neg_mean_absolute_error\",\n",
    "    n_jobs=-1,\n",
    "    random_state=42,\n",
    "    verbose=2\n",
    ")\n",
    "random_search.fit(X_train, y_train)\n",
    "\n",
    "print(\"Best params:\", random_search.best_params_)\n",
    "best_gbr = random_search.best_estimator_\n",
    "y_pred_best = best_gbr.predict(X_test)\n",
    "regression_metrics(y_test, y_pred_best, \"Tuned GBR\")"
   ]
  },
  {
   "cell_type": "markdown",
   "id": "acf0c801",
   "metadata": {},
   "source": [
    "## 9  Cross‑Validation Report"
   ]
  },
  {
   "cell_type": "code",
   "execution_count": null,
   "id": "cc1fb7a3",
   "metadata": {},
   "outputs": [],
   "source": [
    "from sklearn.model_selection import cross_val_score\n",
    "\n",
    "cv_scores = cross_val_score(\n",
    "    best_gbr, X_train, y_train,\n",
    "    cv=5,\n",
    "    scoring=\"neg_mean_absolute_error\",\n",
    "    n_jobs=-1\n",
    ")\n",
    "print(\"CV MAE scores:\", -cv_scores)\n",
    "print(f\"Mean CV MAE: {-cv_scores.mean():.3f} ± {cv_scores.std():.3f}\")"
   ]
  },
  {
   "cell_type": "markdown",
   "id": "f37062f1",
   "metadata": {},
   "source": [
    "## 10  Summary\n",
    "| Model | MAE | RMSE | R² |\n",
    "|---|---|---|---|\n",
    "| Baseline (mean) | printed above |\n",
    "| RandomForest | printed above |\n",
    "| GradientBoosting | printed above |\n",
    "| Tuned GBR (final) | printed above |\n",
    "\n",
    "* SHAP helped us identify top predictive features.\n",
    "* Gradient Boosting with tuned hyper‑parameters achieved the lowest error.\n",
    "* 5‑fold cross‑validation confirms the model generalises within ± std of ≈ the mean MAE."
   ]
  }
 ],
 "metadata": {
  "kernelspec": {
   "display_name": "Python 3 (ipykernel)",
   "language": "python",
   "name": "python3"
  },
  "language_info": {
   "codemirror_mode": {
    "name": "ipython",
    "version": 3
   },
   "file_extension": ".py",
   "mimetype": "text/x-python",
   "name": "python",
   "nbconvert_exporter": "python",
   "pygments_lexer": "ipython3",
   "version": "3.13.1"
  }
 },
 "nbformat": 4,
 "nbformat_minor": 5
}
